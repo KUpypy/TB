{
 "cells": [
  {
   "cell_type": "markdown",
   "metadata": {},
   "source": [
    "# Chp 7. Prediction\n",
    "- 발표자 : 이아름\n",
    "- 발표일 : 2017.9.9(토)"
   ]
  },
  {
   "cell_type": "markdown",
   "metadata": {},
   "source": [
    "## 7.1 The Boston Bruins problem\n",
    "\n",
    "2010년 하키 결승전에서, 보스턴 브루인스vs밴쿠버 캐넉스 경기가 있었다.\n",
    "보스턴은 2게임을 0-1과 2-3으로 지고,\n",
    "다음 2게임에서는 8-1과 4-0으로 이겼다.\n",
    "\n",
    "Q. 보스턴이 다음 경기에서 이길확률은 ? 챔피언십에서 우승할 확률은 ?\n",
    "\n",
    "이 문제에 대답할 때는 몇 가지 가정을 해야 한다.\n",
    "\n",
    "1. 하키의 골에 대한 점수는 최소한 게임의 어떤 때든 골이 성공할 가능성이 동일하다고 보는 포아송 프로세스(어떤 시간까지 일어날 사건의 개수,독립)를 따른다\n",
    "2. 특정 상대에 대해서 각 팀의 게임별 장기적 평균 골 수 는 λ 라고 표기 한다.\n",
    "\n",
    "주어진 가정에 대해 이 질문에 대답하려면, 다음 과정을 거친다.\n",
    "\n",
    "- λ에 대한 사전 분포를 고르기 위해 전 게임에 대한 통계를 확인한다.\n",
    "- 각 팀에 대한 λ 추정을 위해 처음 4게임의 점수를 사용한다\n",
    "- λ의 사후 분포를 통해 각 팀의 골의 분포, 골 차이 분포, 각 팀이 다음에 이길 확률 계산한다\n",
    "- 각 팀이 이번 시리즈에서 이길 확률을 구한다\n",
    "\n",
    "\n",
    "\n",
    "가우시안 분포는 연속형 pmf로 추정 : MakeGaussianPmf 사용"
   ]
  },
  {
   "cell_type": "code",
   "execution_count": 1,
   "metadata": {
    "collapsed": true
   },
   "outputs": [],
   "source": [
    "from __future__ import print_function, division\n",
    "\n",
    "% matplotlib inline\n",
    "import warnings\n",
    "warnings.filterwarnings('ignore')\n",
    "\n",
    "import math\n",
    "import numpy as np\n",
    "\n",
    "from thinkbayes2 import Pmf, Cdf, Suite, Joint\n",
    "import thinkplot\n",
    "import thinkbayes2"
   ]
  },
  {
   "cell_type": "code",
   "execution_count": 2,
   "metadata": {
    "collapsed": true
   },
   "outputs": [],
   "source": [
    "def MakeGaussianPmf(mu, sigma, num_sigmas, n=201):\n",
    "    \"\"\"Makes a PMF discrete approx to a Gaussian distribution.\n",
    "    \n",
    "    mu: float mean\n",
    "    sigma: float standard deviation\n",
    "    num_sigmas: how many sigmas to extend in each direction\n",
    "    n: number of values in the Pmf\n",
    "    returns: normalized Pmf\n",
    "    \"\"\"\n",
    "    pmf = Pmf()\n",
    "    low = mu - num_sigmas * sigma\n",
    "    high = mu + num_sigmas * sigma\n",
    "\n",
    "    for x in numpy.linspace(low, high, n):\n",
    "        p = EvalGaussianPdf(x, mu, sigma)\n",
    "        pmf.Set(x, p)\n",
    "    pmf.Normalize()\n",
    "    return pmf"
   ]
  },
  {
   "cell_type": "markdown",
   "metadata": {},
   "source": [
    "    - mu와 sigma는 가우시안 분포의 평균/표준편차\n",
    "    - num_sigmas는 pmf 범위의 평균 이상/이하 범위에 속하는 편차의 수\n",
    "    - n은 pmf의 값의 수\n",
    "\n",
    "    - numpy.linspace : low 이상 high 이하 범위 값을 n개 동일 구간으로 나눈 값을 배열로 만들기 \n",
    "    - norm.pdf는 가우시안 확률 밀도 함수(pdf)계산\n",
    "\n",
    "- 하키문제에서, λ의 값에 대한 가설 suite 정의 (아래와 같음)"
   ]
  },
  {
   "cell_type": "code",
   "execution_count": 3,
   "metadata": {
    "collapsed": false
   },
   "outputs": [],
   "source": [
    "class Hockey(thinkbayes2.Suite):\n",
    "    def __init__(self):\n",
    "        pmf = thinkbayes.MakeGaussianPmf(2.7, 0.3, 4)\n",
    "        thinkbayes2.Suite.__init__(self, pmf)"
   ]
  },
  {
   "cell_type": "markdown",
   "metadata": {},
   "source": [
    "    - 사전 분포는 평균 2.7에 표준편차가 0.3인 가우시안 분포를 따르고,\n",
    "    - 평균 상하로 4 시그마씩의 범위를 갖는다\n",
    "    \n",
    "    \n",
    "## 7.2 Poisson processes\n",
    "\n",
    "- 프로세스 : 물리 시스템에 대한 모델\n",
    "- 베르누이 프로세스 : 'trials'라는 사건의 나열로 이루어진 모델. 이때 trial은 성공/실패 2가지로 나옴\n",
    "  따라서 베르누이 프로세스는 연속적으로 동전 던지기나 골에 공을 넣는 것에 대한 자연적 모델임\n",
    "  \n",
    "- poisson 프로세스 : 베르누이 프로세스의 연속형으로 사건이 어떤 시점에서든 동일한 확률로 발생할 수 있는 형태\n",
    "\n",
    "  ex) 가게에 손님이 도착하는 것, 버스 정류장에 버스가 도착하는 것, 하키게임에서 골이 성공하는 것\n",
    "  \n",
    "  실제로 사건 확률은 시간에 따라 변한다. 손님들이 특정시간에 가게 방문하는 것, 버스도 주기로 도착하도록 되어있고, 골은 게임동안 시간마다 들어갈 확률이 달라짐\n",
    "  \n",
    "- 하키게임은 poisson 프로세스로 모델링 해보자.\n",
    "\n",
    "    - 이 모델을 사용하면 효율적으로 게임당 골 수의 분포를 계산할 수 있을 뿐더러, 골 간의 시간 분포에 대해서도 알 수 있음\n",
    "    \n",
    "       ex) 게임당 평균 골 수가 1am이라면, 게임당 골 분포 : poisson pmf 로 주어짐\n",
    "\n",
    "\n"
   ]
  },
  {
   "cell_type": "code",
   "execution_count": 4,
   "metadata": {
    "collapsed": true
   },
   "outputs": [],
   "source": [
    "def EvalPoissonPmf(k, lam):\n",
    "    \"\"\"Computes the Poisson PMF.\n",
    "    k: number of events\n",
    "    lam: parameter lambda in events per unit time\n",
    "    returns: float probability\n",
    "    \"\"\"\n",
    "    return scipy.stats.poisson.pmf(k, lam)"
   ]
  },
  {
   "cell_type": "markdown",
   "metadata": {},
   "source": [
    "    - 골 간의 시간 분포는 지수 PDF를 따른다 "
   ]
  },
  {
   "cell_type": "code",
   "execution_count": 5,
   "metadata": {
    "collapsed": true
   },
   "outputs": [],
   "source": [
    "def EvalExponentialPdf(x, lam):\n",
    "    \"\"\"Computes the exponential PDF.\n",
    "    x: value\n",
    "    lam: parameter lambda in events per unit time\n",
    "    returns: float probability density\n",
    "    \"\"\"\n",
    "    return lam * math.exp(-lam * x)"
   ]
  },
  {
   "cell_type": "markdown",
   "metadata": {},
   "source": [
    "## 7.3 사후분포\n",
    "\n",
    "- 게임에서 k골을 넣었을 때의 점수 lam의 가설 값을 갖는 우도 계산하기"
   ]
  },
  {
   "cell_type": "code",
   "execution_count": 6,
   "metadata": {
    "collapsed": true
   },
   "outputs": [],
   "source": [
    "from thinkbayes2 import MakeNormalPmf\n",
    "from thinkbayes2 import EvalPoissonPmf\n",
    "\n",
    "class Hockey(Suite):\n",
    "    \"\"\"Represents hypotheses about the scoring rate for a team.\"\"\"\n",
    "\n",
    "    def __init__(self, label=None):\n",
    "        \"\"\"Initializes the Hockey object.\n",
    "\n",
    "        label: string\n",
    "        \"\"\"\n",
    "        mu = 2.8\n",
    "        sigma = 0.3\n",
    "\n",
    "        pmf = MakeNormalPmf(mu, sigma, num_sigmas=4, n=101)\n",
    "        Suite.__init__(self, pmf, label=label)\n",
    "            \n",
    "    def Likelihood(self, data, hypo):\n",
    "        \"\"\"Computes the likelihood of the data under the hypothesis.\n",
    "\n",
    "        Evaluates the Poisson PMF for lambda and k.\n",
    "\n",
    "        hypo: goal scoring rate in goals per game\n",
    "        data: goals scored in one game\n",
    "        \"\"\"\n",
    "        lam = hypo\n",
    "        k = data\n",
    "        like = EvalPoissonPmf(k, lam)\n",
    "        return like"
   ]
  },
  {
   "cell_type": "markdown",
   "metadata": {},
   "source": [
    "    - 각 가설 hypo는 λ에 대한 값\n",
    "    - data는 관측된 골의 개수\n",
    "    \n",
    "    - 우도 함수 사용해서 , 각 팀의 suite 만들고, 처음 4경기의 점수를 사용해서 update 하기"
   ]
  },
  {
   "cell_type": "code",
   "execution_count": 7,
   "metadata": {
    "collapsed": false
   },
   "outputs": [],
   "source": [
    "suite1 = Hockey('bruins')\n",
    "suite2 = Hockey('canucks')"
   ]
  },
  {
   "cell_type": "code",
   "execution_count": 8,
   "metadata": {
    "collapsed": false
   },
   "outputs": [
    {
     "data": {
      "image/png": "[encoded data removed]",
      "text/plain": [
       "<matplotlib.figure.Figure at 0x9946d64128>"
      ]
     },
     "metadata": {},
     "output_type": "display_data"
    }
   ],
   "source": [
    "thinkplot.PrePlot(num=2)\n",
    "thinkplot.Pdf(suite1)\n",
    "thinkplot.Pdf(suite2)\n",
    "thinkplot.Config(xlabel='Goals per game',\n",
    "                ylabel='Probability')"
   ]
  },
  {
   "cell_type": "code",
   "execution_count": 9,
   "metadata": {
    "collapsed": false
   },
   "outputs": [
    {
     "data": {
      "text/plain": [
       "(2.8814477910015488, 2.6145205761109493)"
      ]
     },
     "execution_count": 9,
     "metadata": {},
     "output_type": "execute_result"
    },
    {
     "data": {
      "image/png": "[encoded data removed]",
      "text/plain": [
       "<matplotlib.figure.Figure at 0x99431f45f8>"
      ]
     },
     "metadata": {},
     "output_type": "display_data"
    }
   ],
   "source": [
    "suite1.UpdateSet([0, 2, 8, 4])\n",
    "suite2.UpdateSet([1, 3, 1, 0])\n",
    "\n",
    "thinkplot.PrePlot(num=2)\n",
    "thinkplot.Pdf(suite1)\n",
    "thinkplot.Pdf(suite2)\n",
    "thinkplot.Config(xlabel='Goals per game',\n",
    "                ylabel='Probability')\n",
    "\n",
    "suite1.Mean(), suite2.Mean()"
   ]
  },
  {
   "cell_type": "markdown",
   "metadata": {},
   "source": [
    "    - lam의 사후 분포 \n",
    "    - lam의 근사값 , canucks : 2.6   bruins : 2.9\n",
    "\n",
    "            \n",
    "## 골의 분포\n",
    "\n",
    "각 팀이 다음 경기에서 이길 확률을 계산하려면, 각 팀의 골의 분포를 계산해야 함.\n",
    "\n",
    "만약, 우리가 lam 값을 정확히 알고 있다면 poisson 분포를 다시 사용할 수 있다\n",
    "\n",
    "    - MakePoissonPmf 사용\n"
   ]
  },
  {
   "cell_type": "code",
   "execution_count": 10,
   "metadata": {
    "collapsed": true
   },
   "outputs": [],
   "source": [
    "from thinkbayes2 import MakePoissonPmf\n",
    "\n",
    "def MakePoissonPmf(lam, high):\n",
    "    pmf = Pmf()\n",
    "    for k in range(0, high+1):\n",
    "        p = EvalPoissonPmf(k, lam)\n",
    "        pmf.Set(k, p)\n",
    "    pmf.Normalize()\n",
    "    return pmf"
   ]
  },
  {
   "cell_type": "markdown",
   "metadata": {},
   "source": [
    "    - 구해진 pmf 범위는 0부터 high 까지. \n",
    "    - 따라서, lam 값이 정확히 3.4라면 아래와 같이 계산 가능"
   ]
  },
  {
   "cell_type": "code",
   "execution_count": 11,
   "metadata": {
    "collapsed": false
   },
   "outputs": [],
   "source": [
    "lam =3.4\n",
    "goal_dist = thinkbayes2.MakePoissonPmf(lam,10)"
   ]
  },
  {
   "cell_type": "markdown",
   "metadata": {},
   "source": [
    "- 한 게임에서 10골 이상 나올 가능성은 매우 낮기때문에 여기서는 최댓값을 10으로 설정\n",
    "    - lam 의 값은 정확하게 모르고, 대신 lam의 주어진 사후 분포에 대해, 골의 분포를 생성할 수 있음\n",
    "        - lam의 값에 대해, 골의 분포는 poisson 분포를 따른다.\n",
    "        - 따라서 골 전체 분포는 poisson 분포의 혼합형으로 lam의 분포 확률에 따라 가중치가 주어진다."
   ]
  },
  {
   "cell_type": "code",
   "execution_count": 12,
   "metadata": {
    "collapsed": true
   },
   "outputs": [],
   "source": [
    "from thinkbayes2 import MakeMixture\n",
    "from thinkbayes2 import MakePoissonPmf\n",
    "\n",
    "def MakeGoalPmf(suite, high=10):\n",
    "    \"\"\"Makes the distribution of goals scored, given distribution of lam.\n",
    "\n",
    "    suite: distribution of goal-scoring rate\n",
    "    high: upper bound\n",
    "\n",
    "    returns: Pmf of goals per game\n",
    "    \"\"\"\n",
    "    metapmf = Pmf()\n",
    "\n",
    "    for lam, prob in suite.Items():\n",
    "        pmf = MakePoissonPmf(lam, high)\n",
    "        metapmf.Set(pmf, prob)\n",
    "\n",
    "    mix = MakeMixture(metapmf, label=suite.label)\n",
    "    return mix"
   ]
  },
  {
   "cell_type": "markdown",
   "metadata": {},
   "source": [
    "    - lam 값에 대해 poison Pmf를 만들고 이를 metapmf에 더함\n",
    "    - 혼합분포값 계산을 위해 MakeMixture를 사용"
   ]
  },
  {
   "cell_type": "code",
   "execution_count": 13,
   "metadata": {
    "collapsed": false
   },
   "outputs": [
    {
     "data": {
      "text/plain": [
       "(2.8792178420902266, 2.6134252104851332)"
      ]
     },
     "execution_count": 13,
     "metadata": {},
     "output_type": "execute_result"
    },
    {
     "data": {
      "image/png": "[encoded data removed]",
      "text/plain": [
       "<matplotlib.figure.Figure at 0x9947e9b4e0>"
      ]
     },
     "metadata": {},
     "output_type": "display_data"
    }
   ],
   "source": [
    "goal_dist1 = MakeGoalPmf(suite1)\n",
    "goal_dist2 = MakeGoalPmf(suite2)\n",
    "\n",
    "thinkplot.PrePlot(num=2)\n",
    "thinkplot.Pmf(goal_dist1)\n",
    "thinkplot.Pmf(goal_dist2)\n",
    "thinkplot.Config(xlabel='Goals',\n",
    "                ylabel='Probability',\n",
    "                xlim=[-0.7, 11.5])\n",
    "\n",
    "goal_dist1.Mean(), goal_dist2.Mean()\n",
    "\n",
    "# 단일 게임에서의 골의 분포"
   ]
  },
  {
   "cell_type": "markdown",
   "metadata": {},
   "source": [
    "## 7.5 이길 확률\n",
    "\n",
    "- 이길 확률 구하기 위해서는, 골 수 차이의 분포를 계산해야 한다\n",
    "\n",
    "    - 골의 차이가 +이면 bruins 가 이김,  차이가 -이면 canucks가 이김,, 0이면 비김"
   ]
  },
  {
   "cell_type": "code",
   "execution_count": 14,
   "metadata": {
    "collapsed": false
   },
   "outputs": [
    {
     "name": "stdout",
     "output_type": "stream",
     "text": [
      "Prob win, loss, tie: 0.457999782312 0.370290326041 0.171709891647\n"
     ]
    }
   ],
   "source": [
    "diff = goal_dist1 - goal_dist2\n",
    "p_win = diff.ProbGreater(0)\n",
    "p_loss = diff.ProbLess(0)\n",
    "p_tie = diff.Prob(0)\n",
    "\n",
    "print('Prob win, loss, tie:', p_win, p_loss, p_tie)"
   ]
  },
  {
   "cell_type": "markdown",
   "metadata": {},
   "source": [
    "## 7.6 sudden death\n",
    "\n",
    "- sudden death : 동점으로 끝날 겨우, 한 팀이 이길 때까지 정규 시간 이후에도 경기를 진행함.\n",
    "    - 첫번째 골이 들어가는 순간 게임은 끝나고, 이런 시간외 경기를 sudden death라고 한다.\n",
    "    \n",
    "    \n",
    "- 시간 외의 서든 데스에서 이길 확률을 계산하기 위해서, 중요한 통계는 처음 골 넣기까지 걸리는 시간.\n",
    "\n",
    "- 주어진 lam에 대해 다음과 같이 골 간의 시간 계산\n",
    "\n",
    "    -high 는 분포의 상한값. 점수가 안나온 채 2게임 이상 진행될 확률은 적으므로 2\n",
    "    \n",
    "    -n은 pmf 값의 개수\n",
    "    \n",
    "    -lam의 값은 모르기 때문에, 사후 분포 갖고 있음. 골의 분포를 구해서 meta-pmf구하고, pmf의 혼합값을 계산"
   ]
  },
  {
   "cell_type": "code",
   "execution_count": 15,
   "metadata": {
    "collapsed": true
   },
   "outputs": [],
   "source": [
    "from thinkbayes2 import MakeExponentialPmf\n",
    "\n",
    "def MakeGoalTimePmf(suite):\n",
    "    \"\"\"Makes the distribution of time til first goal.\n",
    "\n",
    "    suite: distribution of goal-scoring rate\n",
    "\n",
    "    returns: Pmf of goals per game\n",
    "    \"\"\"\n",
    "    metapmf = Pmf()\n",
    "\n",
    "    for lam, prob in suite.Items():\n",
    "        pmf = MakeExponentialPmf(lam, high=2, n=2001)\n",
    "        metapmf.Set(pmf, prob)\n",
    "\n",
    "    mix = MakeMixture(metapmf, label=suite.label)\n",
    "    return mix"
   ]
  },
  {
   "cell_type": "markdown",
   "metadata": {},
   "source": [
    "- 시간 값이 게임의 1/3보다짧을경우, bruins 가 먼저 득점할 가능성이 높다.\n",
    "- 2팀이 동시에 점수 내기는 불가능하기에 \n",
    "\n",
    "\n",
    "- 골 time이 bruins가 더 짧으므로, 이길 확률이 높다"
   ]
  },
  {
   "cell_type": "code",
   "execution_count": 16,
   "metadata": {
    "collapsed": false
   },
   "outputs": [
    {
     "data": {
      "text/plain": [
       "(0.34253098902277268, 0.37409601430770112)"
      ]
     },
     "execution_count": 16,
     "metadata": {},
     "output_type": "execute_result"
    },
    {
     "data": {
      "image/png": "[encoded data removed]",
      "text/plain": [
       "<matplotlib.figure.Figure at 0x9947e51b38>"
      ]
     },
     "metadata": {},
     "output_type": "display_data"
    }
   ],
   "source": [
    "time_dist1 = MakeGoalTimePmf(suite1)     # bruins\n",
    "time_dist2 = MakeGoalTimePmf(suite2)     # canucks\n",
    " \n",
    "thinkplot.PrePlot(num=2)\n",
    "thinkplot.Pmf(time_dist1)\n",
    "thinkplot.Pmf(time_dist2)    \n",
    "thinkplot.Config(xlabel='Games until goal',\n",
    "                   ylabel='Probability')\n",
    "\n",
    "time_dist1.Mean(), time_dist2.Mean()\n"
   ]
  },
  {
   "cell_type": "code",
   "execution_count": 17,
   "metadata": {
    "collapsed": false
   },
   "outputs": [
    {
     "name": "stdout",
     "output_type": "stream",
     "text": [
      "p_win_in_overtime 0.523473074433\n"
     ]
    }
   ],
   "source": [
    "p_win_in_overtime = time_dist1.ProbLess(time_dist2)\n",
    "p_adjust = time_dist1.ProbEqual(time_dist2)\n",
    "p_win_in_overtime += p_adjust / 2\n",
    "print('p_win_in_overtime', p_win_in_overtime)"
   ]
  },
  {
   "cell_type": "markdown",
   "metadata": {},
   "source": [
    "- bruins가 본 경기 후 이길 확률은 52%\n",
    "\n",
    "- 마지막으로 이길 확률 계산은, 정규 경기 이길확률 + 경기 후 이길확률\n",
    "\n",
    "    - 54%"
   ]
  },
  {
   "cell_type": "code",
   "execution_count": 18,
   "metadata": {
    "collapsed": false
   },
   "outputs": [
    {
     "name": "stdout",
     "output_type": "stream",
     "text": [
      "p_win_overall 0.547885287203\n"
     ]
    }
   ],
   "source": [
    "p_win_overall = p_win + p_tie * p_win_in_overtime\n",
    "print('p_win_overall', p_win_overall)"
   ]
  },
  {
   "cell_type": "markdown",
   "metadata": {
    "collapsed": true
   },
   "source": [
    "- 이 시리즈에서 이기려면 bruins는 다음 2게임을 이기거나, 다음 2게임까지 승점이 동일하고 3번째 게임에서 이겨야 한다.\n",
    "\n"
   ]
  },
  {
   "cell_type": "code",
   "execution_count": 19,
   "metadata": {
    "collapsed": false
   },
   "outputs": [
    {
     "name": "stdout",
     "output_type": "stream",
     "text": [
      "0.209763800598\n",
      "0.437147851772\n"
     ]
    }
   ],
   "source": [
    "# 다음 2경기에서 이길 확률\n",
    "p_series = p_win**2\n",
    "\n",
    "print (p_series)\n",
    "# 다음 2경기에서 승점이 동일하고, 3번째 게임에서 이길 확률\n",
    "\n",
    "p_series += 2 * p_win * (1-p_win) * p_win\n",
    "\n",
    "\n",
    "print (p_series)"
   ]
  },
  {
   "cell_type": "markdown",
   "metadata": {
    "collapsed": true
   },
   "source": [
    "- bruins가 시리즈에서 이길 확률은 57% 이다."
   ]
  }
 ],
 "metadata": {
  "anaconda-cloud": {},
  "kernelspec": {
   "display_name": "Python [conda root]",
   "language": "python",
   "name": "conda-root-py"
  },
  "language_info": {
   "codemirror_mode": {
    "name": "ipython",
    "version": 3
   },
   "file_extension": ".py",
   "mimetype": "text/x-python",
   "name": "python",
   "nbconvert_exporter": "python",
   "pygments_lexer": "ipython3",
   "version": "3.5.2"
  }
 },
 "nbformat": 4,
 "nbformat_minor": 1
}
