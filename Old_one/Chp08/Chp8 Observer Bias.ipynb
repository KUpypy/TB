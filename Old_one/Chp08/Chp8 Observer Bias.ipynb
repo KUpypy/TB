{
 "cells": [
  {
   "cell_type": "markdown",
   "metadata": {},
   "source": [
    "# Chp8. Observer Bias\n",
    "* 발표자: 이우진\n",
    "* 발표일: 2017.9.9(토)"
   ]
  },
  {
   "cell_type": "markdown",
   "metadata": {},
   "source": [
    "## The Red Line Problem"
   ]
  },
  {
   "cell_type": "markdown",
   "metadata": {},
   "source": [
    "매사추세츠 주 레드 라인은 캠브리지와 보스턴을 연결하는 지하철입니다. 제가 케임브리지에서 일할 때 켄달 스퀘어 (Kendall Square)에서 사우스 역 (South Station)으로가는 레드 라인을 타고 니덤 (Needham)까지가는 통근 열차를 발견했습니다. 러시아워 열차는 평균 7 ~ 8 분 간격으로 운행됩니다.\n",
    "\n",
    "내가 역에 도착했을 때, 플랫폼의 승객 수에 따라 다음 열차까지의 시간을 예측할 수 있었습니다. 소수의 사람들만 있었다면, 나는 방금 기차를 놓친 것으로 추측하고 약 7 분을 기다릴 것으로 예상했습니다. 더 많은 승객이 있었다면 나는 열차가 더 일찍 도착할 것으로 예상했습니다. 그러나 많은 수의 승객이 있었다면 열차가 예정대로 운행되지 않았다고 생각하여 거리 수준으로 돌아가 택시를 타게되었습니다.\n",
    "\n",
    "기차를 기다리는 동안 베이즈 추정이 내 대기 시간을 예측하고 택시를 포기해야 할 때를 결정하는 데 어떻게 도움이되는지 생각했습니다. 이 장에서는 제가 생각해 낸 분석을 제시합니다.\n",
    "\n",
    "이 장은 Olin College에서 나와 함께 수업을 듣던 Brendan Ritter와 Kai Austin의 프로젝트를 기반으로 합니다. 이 장의 코드는 http://thinkbayes.com/redline.py에서 구할 수 있습니다. 데이터를 수집하는 데 사용한 코드는 http://thinkbayes.com/redline_data.py에 있습니다. 자세한 정보는 xi 페이지의 \"Working with the code\"을 참조하십시오."
   ]
  },
  {
   "cell_type": "markdown",
   "metadata": {},
   "source": [
    "## The model"
   ]
  },
  {
   "cell_type": "markdown",
   "metadata": {},
   "source": [
    "분석을 하기 전에 모델링을 결정해야합니다. 우선, 나는 승객을 포아송 과정으로 취급 할 것입니다. 이는 승객이 도착할 가능성이 equally likely 하고 분당 승객 수로 측정되는 미지의 속도 λ로 도착한다고 가정합니다. 나는 짧은 시간 동안 그리고 매일 같은 시간에 승객들을 관찰하기 때문에, λ가 일정하다고 가정할 수 있습니다.\n",
    "\n",
    "반면에, 열차의 도착 과정은 포아송이 아닙니다. 보스톤 행 열차는 피크 시간에는 7-8 분 간격으로 선착장 (Alewife station) 끝에서 출발해야하지만 켄달 스퀘어 (Kendall Square)에 도착할 때까지 열차 간의 시간은 3 분에서 12 분 사이입니다.\n",
    "\n",
    "열차 사이의 시간에 대한 데이터를 수집하기 위해 http://www.mbta.com/rider_tools/developers/에서 실시간 데이터를 다운로드하는 스크립트를 작성했습니다. 이 데이터는 Kendall 스퀘어에 도착하는 남행 열차를 선택하고 도착 시간을 기록한 것 입니다. 나는 평일 오후 4시부터 6시까지 5일 동안 스크립트를 실행했고, 하루에 약 15 개의 도착을 기록했습니다. 그런 다음 도착 사이의 시간을 계산했습니다. 이러한 갭의 분포는 그림 8-1에 나와 있으며 z로 표시되어 있습니다."
   ]
  },
  {
   "cell_type": "markdown",
   "metadata": {},
   "source": [
    "<img src = \"ch8_1.png\" style=\"width: 500px\" />"
   ]
  },
  {
   "cell_type": "markdown",
   "metadata": {},
   "source": [
    "위 그림은 오후 4시부터 오후 6시까지 플랫폼에 서서 열차 사이의 시간을 기록한 경 볼수 있는 분포입니다. 그러나 기차 시간표에 관계없이 임의의 시간에 도착하면 다른 분포를 볼 수 있습니다. 무작위 승객이 보는 열차 간의 평균 시간은 실제 평균보다 상당히 높습니다.\n",
    "\n",
    "왜 그럴까요? 승객은 작은 간격보다 큰 간격 안에 도착할 가능성이 크기 때문입니다. 간단한 예를 생각해보십시오: 기차 사이의 시간이 5 분 또는 10 분이며 동일한 확률로 가정합니다. 이 경우 열차 간의 평균 시간은 7.5 분입니다.\n",
    "\n",
    "그러나 승객은  5분 간격 안 보다 10분 간견 안에 도착할 확률이 더 높습니다. 사실 두 배나 높습니다. 우리가 도착한 승객을 조사한 결과, 2 분의 3은 10분 간격으로, 3 분의 1 은 5 분 간격으로 도착했습니다. 도착하는 승객이 본 열차 간의 평균 시간은 8.33 분입니다.\n",
    "\n",
    "이런 종류의 **observer bias**는 많은 맥락에서 나타난다. 학생들은 수업이 큰 수업에 더 많이 참여하기 때문에 수업이 더 크다고 생각합니다. 비행기 탑승객은 비행기가 더 가득 차 있다고 생각합니다.\n",
    "\n",
    "각각의 경우 실제 분포의 값은 값은 해당 값에 비례하여 오버 샘플링됩니다. 레드 라인 예제에서 두 배 큰 차이(interval)는 (그 interval 안에)관찰될 확률을 두배 높이게 됩니다. \n",
    "\n",
    "따라서 갭의 실제 분포가 주어지면 승객이 보는 간격의 분포를 계산할 수 있습니다. `BiasPmf`는 이 계산을 수행합니다."
   ]
  },
  {
   "cell_type": "code",
   "execution_count": 9,
   "metadata": {
    "collapsed": false
   },
   "outputs": [],
   "source": [
    "import thinkbayes\n",
    "\n",
    "def BiasPmf(pmf):\n",
    "    new_pmf = pmf.Copy()\n",
    "    \n",
    "    for x, p in pmf.Items():\n",
    "        new_pmf.Mult(x, x)\n",
    "        \n",
    "    new_pmf.Normalize()\n",
    "    return new_pmf"
   ]
  },
  {
   "cell_type": "markdown",
   "metadata": {},
   "source": [
    "`pmf`는 실제 분포입니다; `new_pmf`는 편향된 분포입니다. for 루프 안에, 우리는 각 x 값의 확률값에 x에 비례하는 likelihood를 곱해 주었습니다. 그다음 그 결과를 표준화합니다.\n",
    "\n",
    "그림 8-1은 z로 표시된 갭의 실제 분포와 \"z biased\"에 대한 zb로 표시된 승객이 본 gap의 분포를 보여줍니다."
   ]
  },
  {
   "cell_type": "markdown",
   "metadata": {},
   "source": [
    "## Wait times"
   ]
  },
  {
   "cell_type": "markdown",
   "metadata": {},
   "source": [
    "내가 y라고 부르는 대기 시간은 승객이 도착한 후 열차가 다음에 도착할 때까지의 시간입니다. 내가 x라고 부르는 경과 시간은 이전 열차가 도착한 후 승객이 도착할 때까지의 시간입니다. zb = x + y가되도록 이 정의를 선택했습니다.\n",
    "\n",
    "zb의 분포가 주어지면 y의 분포를 계산할 수 있습니다. 나는 간단한 사례로 시작해서 일반화 할 것입니다. 앞의 예제에서와 같이 zb가 확률 1/3로 5분 또는 확률 2/3로 10 분이라고 가정합니다.\n",
    "\n",
    "우리가 5분 gap 안의 임의의 시간에 도착하면, y는 0에서 5 분까지 일정합니다. 10 분 간격으로 도착하면 y는 0에서 10까지 균일합니다. 따라서 전체 분포는 각 간격의 확률에 따라 가중치가 적용된 균일 분포의 혼합입니다.\n",
    "\n",
    "다음 함수는 zb의 분포를 취하여 y의 분포를 계산합니다."
   ]
  },
  {
   "cell_type": "code",
   "execution_count": 10,
   "metadata": {
    "collapsed": true
   },
   "outputs": [],
   "source": [
    "def PmfOfWaitTime(pmf_zb):\n",
    "    metapmf = thinkbayes.Pmf() \n",
    "    for gap, prob in pmf_zb.Items():\n",
    "        uniform = MakeUniformPmf(0, gap)\n",
    "        metapmf.Set(uniform, prob)\n",
    "    pmf_y = thinkbayes.MakeMixture(metapmf) \n",
    "    return pmf_y"
   ]
  },
  {
   "cell_type": "markdown",
   "metadata": {},
   "source": [
    "`PmfOfWaitTime`은 각 균일 분포에서 확률로 매핑되는 메타-Pmf를 만듭니다. 그런 다음, \"Mixtures\"(47 페이지)에서 보았던 `MakeMixture`를 사용하여 mixture를 계산합니다.\n",
    "\n",
    "또한 `PmfOfWaitTime`은 `MakeUniformPmf`를 사용합니다."
   ]
  },
  {
   "cell_type": "code",
   "execution_count": 11,
   "metadata": {
    "collapsed": true
   },
   "outputs": [],
   "source": [
    "def MakeUniformPmf(low, high):\n",
    "\n",
    "    pmf = thinkbayes.Pmf() \n",
    "    for x in MakeRange(low=low, high=high):\n",
    "        pmf.Set(x, 1) \n",
    "    pmf.Normalize() \n",
    "    return pmf"
   ]
  },
  {
   "cell_type": "markdown",
   "metadata": {},
   "source": [
    "`low`와 `high`는 uniform의 range입니다. 마지막으로, `MakeUniformPmf`는 `MakeRange`를 사용합니다."
   ]
  },
  {
   "cell_type": "code",
   "execution_count": 12,
   "metadata": {
    "collapsed": true
   },
   "outputs": [],
   "source": [
    "def MakeRange(low, high, skip=10):\n",
    "    return range(low, high+skip, skip)"
   ]
  },
  {
   "cell_type": "markdown",
   "metadata": {},
   "source": [
    "`MakeRange`는 대기 시간 (초 단위)에 가능한 값 집합을 정의합니다. 기본적으로 범위를 10 초 간격으로 나눕니다.\n",
    "\n",
    "이러한 배포판을 계산하는 과정을 encapsulate하기 위해 `WaitTimeCalculator`라는 클래스를 만들었습니다."
   ]
  },
  {
   "cell_type": "code",
   "execution_count": 13,
   "metadata": {
    "collapsed": true
   },
   "outputs": [],
   "source": [
    "class WaitTimeCalculator(object):\n",
    "    def __init__(self, pmf_z):\n",
    "\n",
    "        self.pmf_z = pmf_z\n",
    "        self.pmf_zb = BiasPmf(pmf)\n",
    "        self.pmf_y = self.PmfOfWaitTime(self.pmf_zb) \n",
    "        self.pmf_x = self.pmf_y"
   ]
  },
  {
   "cell_type": "markdown",
   "metadata": {},
   "source": [
    "pmf_z 파라메터는 z의 비 편향 분포입니다. pmf_zb는 승객이 볼때의 갭 시간의 편향된 분포입니다.\n",
    "\n",
    "pmf_y는 대기 시간의 분포입니다. pmf_x는 대기 시간 분포와 같은 경과 시간 분포입니다. 이유를 보자면 zp의 특정 값에 대해 y의 분포가 0에서 zp까지 일정하다는 것을 기억하십시오. 또한\n",
    "\n",
    "$$x=zp-y$$\n",
    "\n",
    "따라서 x의 분포는 0에서부터 zp까지 uniform합니다.\n",
    "\n",
    "Figure 8-2는 z, zb, y의 분포를 보여줍니다."
   ]
  },
  {
   "cell_type": "markdown",
   "metadata": {},
   "source": [
    "<img src = \"ch8_2.png\" style=\"width: 500px\" />"
   ]
  },
  {
   "cell_type": "markdown",
   "metadata": {},
   "source": [
    "이러한 분포를 보이기 위해 위해 Pmfs를 Cdfs로 전환하려고 합니다. 대부분의 사람들은 Pmfs에 익숙하지만 Cdfs는 일단 익숙해지면 해석하기가 더 쉽다고 생각합니다. 같은 축에 여러 분포를 그려보고 싶다면 Cdfs를 사용하십시오.\n",
    "\n",
    "z의 평균은 7.8 분입니다. zb의 평균은 8.8 분으로 약 13% 더 높습니다. y의 평균은 4.4으로, zb 평균의 절반입니다.\n",
    "\n",
    "레드 라인 스케쥴은 피크 시간대에 열차를 매 9 분마다 운행한다고 합니다. 이것은 zb의 평균에 가깝지만 z의 평균보다 높습니다. "
   ]
  },
  {
   "cell_type": "markdown",
   "metadata": {},
   "source": [
    "## Predicting wait times"
   ]
  },
  {
   "cell_type": "markdown",
   "metadata": {},
   "source": [
    "플랫폼에 도착하면 10 명이 기다리고 있다고 가정해 봅시다. 다음 열차가 도착할 때까지 얼마나 기다려야 할까요?\n",
    "\n",
    "언제나 그렇듯이 문제의 가장 쉬운 버전부터 시작하여 진행해 봅시다. 우리가 z의 실제 분포를 알고 있고, 승객 도착률 λ가 분당 2명이라는 것을 알고 있다고 가정해 봅시다.\n",
    "\n",
    "이 경우 다음을 수행 할 수 있습니다.\n",
    "\n",
    "1. z의 분포를 사용하여 승객이 본 열차 사이의 시간 인 zp의 사전 분포를 계산합니다.\n",
    "\n",
    "2. 그러면 승객 수를 사용하여 마지막 열차 이후의 경과 시간 인 x의 분포를 추정 할 수 있습니다.\n",
    "\n",
    "3. 마지막으로, y = zp-x 관계를 사용하여 y의 분포를 구합니다.\n",
    "\n",
    "첫번째 단계는 승객 수를 고려하기 전에 zp, x 및 y의 분포를 encapsulate하는 `WaitTimeCalculator`를 만드는 것입니다."
   ]
  },
  {
   "cell_type": "code",
   "execution_count": 14,
   "metadata": {
    "collapsed": false
   },
   "outputs": [
    {
     "ename": "NameError",
     "evalue": "name 'pmf_z' is not defined",
     "output_type": "error",
     "traceback": [
      "\u001b[0;31m---------------------------------------------------------------------------\u001b[0m",
      "\u001b[0;31mNameError\u001b[0m                                 Traceback (most recent call last)",
      "\u001b[0;32m<ipython-input-14-a00a708f100b>\u001b[0m in \u001b[0;36m<module>\u001b[0;34m()\u001b[0m\n\u001b[0;32m----> 1\u001b[0;31m \u001b[0mwtc\u001b[0m \u001b[0;34m=\u001b[0m \u001b[0mWaitTimeCalculator\u001b[0m\u001b[0;34m(\u001b[0m\u001b[0mpmf_z\u001b[0m\u001b[0;34m)\u001b[0m\u001b[0;34m\u001b[0m\u001b[0m\n\u001b[0m",
      "\u001b[0;31mNameError\u001b[0m: name 'pmf_z' is not defined"
     ]
    }
   ],
   "source": [
    "wtc = WaitTimeCalculator(pmf_z)"
   ]
  },
  {
   "cell_type": "markdown",
   "metadata": {},
   "source": [
    "`pmf_z`는 주어진 갭 타임의 분포입니다.\n",
    "\n",
    "다음 스탭은 `ElapsedTimeEstimator`를 만드는 것입니다. 이는 x의 posterior 분포와 y의 예측 분포를 가집니다."
   ]
  },
  {
   "cell_type": "code",
   "execution_count": 15,
   "metadata": {
    "collapsed": false
   },
   "outputs": [
    {
     "ename": "NameError",
     "evalue": "name 'ElapsedTimeEstimator' is not defined",
     "output_type": "error",
     "traceback": [
      "\u001b[0;31m---------------------------------------------------------------------------\u001b[0m",
      "\u001b[0;31mNameError\u001b[0m                                 Traceback (most recent call last)",
      "\u001b[0;32m<ipython-input-15-223162456d05>\u001b[0m in \u001b[0;36m<module>\u001b[0;34m()\u001b[0m\n\u001b[0;32m----> 1\u001b[0;31m ete = ElapsedTimeEstimator(wtc,\n\u001b[0m\u001b[1;32m      2\u001b[0m                             \u001b[0mlam\u001b[0m\u001b[0;34m=\u001b[0m\u001b[0;36m2.0\u001b[0m\u001b[0;34m/\u001b[0m\u001b[0;36m60\u001b[0m\u001b[0;34m,\u001b[0m\u001b[0;34m\u001b[0m\u001b[0m\n\u001b[1;32m      3\u001b[0m                            num_passengers=15)\n",
      "\u001b[0;31mNameError\u001b[0m: name 'ElapsedTimeEstimator' is not defined"
     ]
    }
   ],
   "source": [
    "ete = ElapsedTimeEstimator(wtc,\n",
    "                            lam=2.0/60,\n",
    "                           num_passengers=15)"
   ]
  },
  {
   "cell_type": "markdown",
   "metadata": {},
   "source": [
    "파라메터는 WaitTimeCalculator, 승객 도착률, lam (초당 승객으로 표시) 및 관찰 된 승객 수입니다 (15라고 가정).\n",
    "\n",
    "ElapsedTimeEstimator의 정의는 다음과 같습니다."
   ]
  },
  {
   "cell_type": "code",
   "execution_count": 17,
   "metadata": {
    "collapsed": false
   },
   "outputs": [],
   "source": [
    "class ElapsedTimeEstimator(object):\n",
    "    def __init__(self, wtc, lam, num_passengers):\n",
    "        self.prior_x = Elapsed(wtc.pmf_x)\n",
    "        self.post_x = self.prior_x.Copy() \n",
    "        self.post_x.Update((lam, num_passengers))\n",
    "        self.pmf_y = PredictWaitTime(wtc.pmf_zb, self.post_x)"
   ]
  },
  {
   "cell_type": "markdown",
   "metadata": {},
   "source": [
    "prior_x와 posterior_x는 경과 시간의 사전 및 사후 분포입니다. pmf_y는 대기 시간의 예측 분포입니다.\n",
    "\n",
    "ElapsedTimeEstimator는 아래에 정의 된 Elapsed 및 PredictWaitTime을 사용합니다.\n",
    "\n",
    "Elapsed는 x의 가상적인 분포를 나타내는 Suite입니다. x의 사전 분포는 WaitTimeCalculator에서 바로 나옵니다. 그런 다음 우리는 도착률, lam 및 플랫폼에있는 승객 수로 구성된 데이터를 사용하여 사후 분포를 계산합니다.\n",
    "\n",
    "Elapsed의 정의는 다음과 같습니다."
   ]
  },
  {
   "cell_type": "code",
   "execution_count": 19,
   "metadata": {
    "collapsed": false
   },
   "outputs": [],
   "source": [
    "class Elapsed(thinkbayes.Suite):\n",
    "    def Likelihood(self, data, hypo):\n",
    "        x = hypo \n",
    "        lam, k = data \n",
    "        like = thinkbayes.EvalPoissonPmf(lam * x, k)\n",
    "        return like"
   ]
  },
  {
   "cell_type": "markdown",
   "metadata": {},
   "source": [
    "Likelihood는 언제나처럼 가설과 데이터를 취하여 가설 하에서 데이터의 가능성을 계산합니다. 이 경우 hypo는 마지막 열차 이후의 경과 시간이며 데이터는 lam과 승객 수의 tuple입니다.\n",
    "\n",
    "데이터의 likelihood는 x 시간에 도착한 k arrivals에 대한 확률입니다. 도착률은 lam입니다. 우리는 Poisson 분포의 PMF를 사용하여 이를 계산합니다.\n",
    "\n",
    "마지막으로 PredictWaitTime의 정의는 다음과 같습니다."
   ]
  },
  {
   "cell_type": "code",
   "execution_count": 20,
   "metadata": {
    "collapsed": true
   },
   "outputs": [],
   "source": [
    "def PredictWaitTime(pmf_zb, pmf_x):\n",
    "    pmf_y = pmf_zb - pmf_x \n",
    "    RemoveNegatives(pmf_y)\n",
    "    return pmf_y"
   ]
  },
  {
   "cell_type": "markdown",
   "metadata": {},
   "source": [
    "pmf_zb는 열차 간의 갭 분포입니다. pmf_x는 관찰 된 승객 수에 따른 경과 시간의 분포입니다. y = zb - x이므로, 우리는 \n",
    "\n",
    "$$pmf_y = pmf_{zb} - pmf_x$$\n",
    "\n",
    "를 계산할 수 있습니다.\n",
    "\n",
    "빼기 연산자는 zb와 x의 모든 쌍을 나열하고 차이를 계산 한 다음 결과를 pmf_y에 더하는 Pmf .__ sub__를 호출합니다.\n",
    "\n",
    "결과로 생기는 Pmf에는 음의 값이 포함되어 있습니다. 이는 불가능한데, 예를 들어 5 분 간격으로 도착하면 5 분 이상 기다릴 수 없습니다. RemoveNegatives는 분포에서 불가능한 값을 제거하고 재 정규화합니다."
   ]
  },
  {
   "cell_type": "code",
   "execution_count": 21,
   "metadata": {
    "collapsed": true
   },
   "outputs": [],
   "source": [
    "def RemoveNegatives(pmf):\n",
    "    for val in pmf.Values():\n",
    "        if val < 0:\n",
    "            pmf.Remove(val)\n",
    "    pmf.Normalize()"
   ]
  },
  {
   "cell_type": "markdown",
   "metadata": {},
   "source": [
    "그림 8-3은 결과를 보여줍니다. x의 사전 분포는 그림 8-2의 y 분포와 같습니다. x의 사후 분포는 플랫폼에서 15 명의 승객을 본 후, 마지막 열차 이후 시간은 아마도 5-10분 정도 일 것임을 보여줍니다. y의 예측 분포는 약 80 %의 신뢰도로 5 분 이내에 다음 열차를 기대한다는 것을 나타냅니다."
   ]
  },
  {
   "cell_type": "markdown",
   "metadata": {},
   "source": [
    "<img src = \"ch8_3.png\" style=\"width: 500px\" />"
   ]
  },
  {
   "cell_type": "markdown",
   "metadata": {},
   "source": [
    "## Estimating the arrival rate"
   ]
  },
  {
   "cell_type": "markdown",
   "metadata": {},
   "source": [
    "지금까지의 분석은 (1) 갭의 분포와 (2) 승객 도착률을 알고 있다는 가정에 기반을 두고 있습니다. 이제 우리는 두 번째 가정을 풀 준비가 되었습니다.\n",
    "\n",
    "방금 보스턴으로 이사 왔다고 가정하면, 레드 라인의 승객 도착률에 대해 많이 알지 못합니다. 출퇴근 후 며칠만 지나면 정성적으로는 추측 할 수 있습니다. 조금 더 노력하면 λ를 정량적으로 추정 할 수 있습니다.\n",
    "\n",
    "매일 플랫폼에 도착하면 기다리는 시간과 승객 수를 기록해야합니다 (플랫폼이 너무 크면 샘플 영역을 선택할 수 있음). 그런 다음 기다리는 동안 기다리는 시간과 새로 도착하는 사람의 수를 기록해야합니다.\n",
    "\n",
    "5일이 지나면, 다음과 같은 데이터가 생깁니다.\n"
   ]
  },
  {
   "cell_type": "markdown",
   "metadata": {},
   "source": [
    "    k1   y   k2\n",
    "    --  --   --\n",
    "    17  4.6   9\n",
    "    22  1.0   0\n",
    "    23  1.4   4\n",
    "    18  5.4   12\n",
    "    4   5.8   11"
   ]
  },
  {
   "cell_type": "markdown",
   "metadata": {},
   "source": [
    "여기서 k1은 도착했을 때 기다리는 승객의 수, y는 대기 시간 (분), k2는 대기하는 동안 도착한 승객의 수입니다.\n",
    "\n",
    "1주일 동안 18 분을 기다렸다가 36 명의 승객이 도착 했으므로 도착율은 분당 2 명입니다. 실용적으로는 추정치가 충분하지만, 완전성을 위해 λ에 대한 사후 분포를 계산하고 나머지 분석에서는 그 분포를 사용하는 방법을 보여줄 것입니다.\n",
    "\n",
    "`ArrivalRate`는 λ에 대한 가설을 나타내는 Suite입니다. `Likelihood`는 언제나처럼 가설과 데이터를 취하여 가설 하에서 데이터의 가능성을 계산합니다.\n",
    "\n",
    "이 경우 가설은 λ의 값입니다. 데이터는 쌍 y, k이며, 여기서 y는 대기 시간이고 k는 도착한 승객의 수입니다."
   ]
  },
  {
   "cell_type": "code",
   "execution_count": 22,
   "metadata": {
    "collapsed": true
   },
   "outputs": [],
   "source": [
    "class ArrivalRate(thinkbayes.Suite):\n",
    "    def Likelihood(self, data, hypo):\n",
    "        lam = hypo \n",
    "        y, k = data \n",
    "        like = thinkbayes.EvalPoissonPmf(lam * y, k)\n",
    "        return like"
   ]
  },
  {
   "cell_type": "markdown",
   "metadata": {},
   "source": [
    "이 Likelihood 익숙해 보일 수 있습니다. 이는 `Elapsed.Likelihood`와 거의 동일합니다(pg.82). 차이점이라면, `Elapsed.Likelihood`에서 가설은 x, 경과 시간입니다; `ArrivalRate.Likelihood`에서 가설은 lam, 도착률입니다. 그러나 두 경우 likelihood는 lam이 주어졌을때 어떤 시간대에서 k개의 도착을 볼 확률입니다.\n",
    "\n",
    "ArrivalRateEstimator는 λ를 추정하는 프로세스를 encapsulate합니다. 매개 변수 pas senger_data는 위의 표와 같이 k1, y, k2 튜플의 목록입니다."
   ]
  },
  {
   "cell_type": "code",
   "execution_count": 23,
   "metadata": {
    "collapsed": true
   },
   "outputs": [],
   "source": [
    "class ArrivalRateEstimator(object):\n",
    "\n",
    "    def __init__(self, passenger_data):\n",
    "\n",
    "        low, high = 0, 5\n",
    "        n = 51 \n",
    "        hypos = numpy.linspace(low, high, n) / 60\n",
    "\n",
    "        self.prior_lam = ArrivalRate(hypos)\n",
    "        self.post_lam = self.prior_lam.Copy()\n",
    "        for k1, y, k2 in passenger_data:\n",
    "            self.post_lam.Update((y, k2))"
   ]
  },
  {
   "cell_type": "markdown",
   "metadata": {},
   "source": [
    "`__init__`은 lam에 대한 가설 값의 시퀀스인 hypos를 빌드 한 다음 prior_lam이라는 사전 분포를 만듭니다. for 루프는 이전 데이터를 업데이트하여 posterior distribution, post_lam을 산출합니다.\n",
    "\n",
    "그림 8-4는 사전 및 사후 분포를 보여줍니다. 예상대로, posterior 평균과 중앙값은 관측 된 rate 근처에 있습니다(분당 2 명의 승객). 그러나 사후 분포의 확산은 작은 샘플을 기반으로 λ에 대한 불확실성을 포착합니다."
   ]
  },
  {
   "cell_type": "markdown",
   "metadata": {},
   "source": [
    "<img src = \"ch8_4.png\" style=\"width: 500px\" />"
   ]
  },
  {
   "cell_type": "markdown",
   "metadata": {},
   "source": [
    "## Incorporating uncertainty"
   ]
  },
  {
   "cell_type": "markdown",
   "metadata": {},
   "source": [
    "분석에 대한 인풋 중 하나에 대해 불확실성이 있는 경우 다음과 같은 프로세스를 고려할 수 있습니다.\n",
    "\n",
    "1. 불확실한 파라메터(이 경우 λ)의 deterministic 값에 기초하여 분석을 실행\n",
    "\n",
    "2. 불확실한 파라메터의 분포를 계산\n",
    "\n",
    "3. 매개 변수의 각 값에 대해 분석을 실행하고 예측 분포 집합을 생성\n",
    "\n",
    "4. 매개 변수의 분포에서 가중치를 사용하여 예측 분포의 혼합을 계산\n",
    "\n",
    "이미 (1)과 (2) 단계를 완료했습니다. Step (3)과 (4)를 처리하기 위해 `WaitMixtureEstimator`라는 클래스를 작성했습니다."
   ]
  },
  {
   "cell_type": "code",
   "execution_count": 24,
   "metadata": {
    "collapsed": true
   },
   "outputs": [],
   "source": [
    "class WaitMixtureEstimator(object):\n",
    "    def __init__(self, wtc, are, num_passengers=15):\n",
    "        self.metapmf = thinkbayes.Pmf() \n",
    "        \n",
    "        for lam, prob in sorted(are.post_lam.Items()):\n",
    "            ete = ElapsedTimeEstimator(wtc, lam, num_passengers) \n",
    "            self.metapmf.Set(ete.pmf_y, prob)\n",
    "        self.mixture = thinkbayes.MakeMixture(self.metapmf)"
   ]
  },
  {
   "cell_type": "markdown",
   "metadata": {},
   "source": [
    "wtc는 zb의 분포를 포함하는 `WaitTimeCalculator`입니다. are은 lam의 분포를 포함하는 `Arrival TimeEstimator`입니다.\n",
    "\n",
    "첫 번째 줄은 y의 가능한 분포에서 확률로 매핑하는 메타-Pmf를 만듭니다. lam의 각 값에 대해 `ElapsedTimeEstimator`를 사용하여 y의 해당 분포를 계산하고 Meta-Pmf에 저장합니다. 그런 다음 우리는 `MakeMixture`를 사용하여 혼합물을 계산합니다.\n",
    "\n",
    "그림 8-5는 결과를 보여줍니다. 백그라운드의 음영 라인은 likelihood를 나타내는 선 두께와 함께 lam의 각 값에 대한 y의 분포입니다. 어두운 선은 이러한 분포의 혼합입니다.\n",
    "\n",
    "이 경우 우리는 lam의 단일 점 추정을 사용하여 매우 유사한 결과를 얻을 수 있습니다. 실제적인 목적을 위해 추정치의 불확실성을 포함 할 필요는 없었습니다.\n",
    "\n",
    "일반적으로 시스템 response가 비선형인 경우 가변성을 포함하는 것이 중요합니다. 즉, 입력을 조금만 변경하면 출력이 크게 변경 될 수 있습니다. 이 경우, lam의 posterior에 대한 가변성은 작고 시스템 response는 작은 변화에 대해 선형입니다."
   ]
  },
  {
   "cell_type": "markdown",
   "metadata": {},
   "source": [
    "<img src = \"ch8_5.png\" style=\"width: 500px\" />"
   ]
  },
  {
   "cell_type": "markdown",
   "metadata": {},
   "source": [
    "## Decison analysis"
   ]
  },
  {
   "cell_type": "markdown",
   "metadata": {},
   "source": [
    "이 시점에서 플랫폼의 승객 수를 사용하여 대기 시간 분포를 예측할 수 있습니다. 이제 질문의 두 번째 부분으로 이동합니다: 언제 기차를 기다리지 않고 택시에 타야할까요??\n",
    "\n",
    "원래 시나리오에서 나는 통근 열차를 타기 위해 사우스 역에 도착하려고 노력하고 있음을 기억하십시오. 내가 15 분을 기다릴 수있는 충분한 시간을 두고 사무실을 떠났다고 가정.\n",
    "\n",
    "이 경우 `num_passengers`의 함수로 y가 15 분을 초과할 확률을 알고 싶습니다. \"대기 시간 예측\"(82 페이지)의 분석을 사용하고 num_passengers 범위에 대해 분석을 실행하기는 쉽습니다.\n",
    "\n",
    "그러나 문제가 있습니다. 이 분석은 긴 지연의 빈도에 민감하며 긴 지연은 거의 없기 때문에 빈도를 추정하기가 어렵습니다.\n",
    "\n",
    "나는 1 주일의 데이터만 가지고 있었으며, 내가 관찰 한 가장 긴 지연은 15 분이었습니다. 그래서 나는 더 긴 지연의 빈도를 정확하게 예측할 수 없었습니다.\n",
    "\n",
    "그러나 이전 관찰을 사용하여 최소한의 대략적인 추정을 할 수 있습니다. 레드 라인을 통해 1년 동안 통근했을 때, 신호 문제, 정전, 또 다른 정류장에서의 \"경찰 활동\"으로 인해 세번의 긴 지연이 있음을 알았습니다. 따라서 연간 약 3건의 지연이 있는 것으로 추정됩니다."
   ]
  },
  {
   "cell_type": "markdown",
   "metadata": {},
   "source": [
    "그러나 내 관찰은 편향되어 있다는 것을 기억하십시오. 긴 지체가 많은 수의 승객에게 영향을 미치기 때문에 내가 그것을 관찰할 가능성이 높기 때문입니다. 그래서 우리는 나의 관찰을 z가 아닌 zb의 표본으로 다루어야 합니다. \n",
    "\n",
    "출퇴근을 하는 동안 저는 220 번 정도 레드 라인을 탔습니다. 그래서 나는 관찰 된 gap time 인 `gap_times`를 취해 220개 간격의 샘플을 생성하고 그들의 Pmf를 계산해 봤습니다 :"
   ]
  },
  {
   "cell_type": "code",
   "execution_count": 25,
   "metadata": {
    "collapsed": false
   },
   "outputs": [
    {
     "ename": "NameError",
     "evalue": "name 'gap_times' is not defined",
     "output_type": "error",
     "traceback": [
      "\u001b[0;31m---------------------------------------------------------------------------\u001b[0m",
      "\u001b[0;31mNameError\u001b[0m                                 Traceback (most recent call last)",
      "\u001b[0;32m<ipython-input-25-ebbfb016592d>\u001b[0m in \u001b[0;36m<module>\u001b[0;34m()\u001b[0m\n\u001b[1;32m      1\u001b[0m \u001b[0mn\u001b[0m \u001b[0;34m=\u001b[0m \u001b[0;36m220\u001b[0m\u001b[0;34m\u001b[0m\u001b[0m\n\u001b[0;32m----> 2\u001b[0;31m \u001b[0mcdf_z\u001b[0m \u001b[0;34m=\u001b[0m \u001b[0mthinkbayes\u001b[0m\u001b[0;34m.\u001b[0m\u001b[0mMakeCdfFromList\u001b[0m\u001b[0;34m(\u001b[0m\u001b[0mgap_times\u001b[0m\u001b[0;34m)\u001b[0m\u001b[0;34m\u001b[0m\u001b[0m\n\u001b[0m\u001b[1;32m      3\u001b[0m \u001b[0msample_z\u001b[0m \u001b[0;34m=\u001b[0m \u001b[0mcdf_z\u001b[0m\u001b[0;34m.\u001b[0m\u001b[0mSample\u001b[0m\u001b[0;34m(\u001b[0m\u001b[0mn\u001b[0m\u001b[0;34m)\u001b[0m\u001b[0;34m\u001b[0m\u001b[0m\n\u001b[1;32m      4\u001b[0m \u001b[0mpmf_z\u001b[0m \u001b[0;34m=\u001b[0m \u001b[0mthinkbayes\u001b[0m\u001b[0;34m.\u001b[0m\u001b[0mMakePmfFromList\u001b[0m\u001b[0;34m(\u001b[0m\u001b[0msample_z\u001b[0m\u001b[0;34m)\u001b[0m\u001b[0;34m\u001b[0m\u001b[0m\n",
      "\u001b[0;31mNameError\u001b[0m: name 'gap_times' is not defined"
     ]
    }
   ],
   "source": [
    "n = 220 \n",
    "cdf_z = thinkbayes.MakeCdfFromList(gap_times)\n",
    "sample_z = cdf_z.Sample(n) \n",
    "pmf_z = thinkbayes.MakePmfFromList(sample_z)"
   ]
  },
  {
   "cell_type": "markdown",
   "metadata": {},
   "source": [
    "다음으로 pmf_z를 편향해 zb의 분포를 얻고, 샘플을 그리고, 30, 40, 50 분의 지연을 초 단위로 더합니다"
   ]
  },
  {
   "cell_type": "code",
   "execution_count": 26,
   "metadata": {
    "collapsed": false
   },
   "outputs": [
    {
     "ename": "NameError",
     "evalue": "name 'pmf_z' is not defined",
     "output_type": "error",
     "traceback": [
      "\u001b[0;31m---------------------------------------------------------------------------\u001b[0m",
      "\u001b[0;31mNameError\u001b[0m                                 Traceback (most recent call last)",
      "\u001b[0;32m<ipython-input-26-27394bb5e6fd>\u001b[0m in \u001b[0;36m<module>\u001b[0;34m()\u001b[0m\n\u001b[0;32m----> 1\u001b[0;31m \u001b[0mcdf_zp\u001b[0m \u001b[0;34m=\u001b[0m \u001b[0mBiasPmf\u001b[0m\u001b[0;34m(\u001b[0m\u001b[0mpmf_z\u001b[0m\u001b[0;34m)\u001b[0m\u001b[0;34m.\u001b[0m\u001b[0mMakeCdf\u001b[0m\u001b[0;34m(\u001b[0m\u001b[0;34m)\u001b[0m\u001b[0;34m\u001b[0m\u001b[0m\n\u001b[0m\u001b[1;32m      2\u001b[0m \u001b[0msample_zb\u001b[0m \u001b[0;34m=\u001b[0m \u001b[0mcdf_zp\u001b[0m\u001b[0;34m.\u001b[0m\u001b[0mSample\u001b[0m\u001b[0;34m(\u001b[0m\u001b[0mn\u001b[0m\u001b[0;34m)\u001b[0m \u001b[0;34m+\u001b[0m \u001b[0;34m[\u001b[0m\u001b[0;36m1800\u001b[0m\u001b[0;34m,\u001b[0m \u001b[0;36m2400\u001b[0m\u001b[0;34m,\u001b[0m \u001b[0;36m3000\u001b[0m\u001b[0;34m]\u001b[0m\u001b[0;34m\u001b[0m\u001b[0m\n",
      "\u001b[0;31mNameError\u001b[0m: name 'pmf_z' is not defined"
     ]
    }
   ],
   "source": [
    "cdf_zp = BiasPmf(pmf_z).MakeCdf() \n",
    "sample_zb = cdf_zp.Sample(n) + [1800, 2400, 3000]"
   ]
  },
  {
   "cell_type": "markdown",
   "metadata": {},
   "source": [
    "`Cdf.Sample`은 `Pmf.Sample`보다 효율적이므로 샘플링 전에 Pmf를 Cdf로 변환하는 것이 일반적으로 빠릅니다.\n",
    "\n",
    "다음으로 나는 zb 샘플을 사용하여 KDE를 사용하여 Pdf를 추정 한 다음 Pdf를 Pmf로 바꿉니다:"
   ]
  },
  {
   "cell_type": "code",
   "execution_count": null,
   "metadata": {
    "collapsed": true
   },
   "outputs": [],
   "source": [
    "pdf_zb = thinkbayes.EstimatedPdf(sample_zb) \n",
    "xs = MakeRange(low=60)\n",
    "pmf_zb = pdf_zb.MakePmf(xs)"
   ]
  },
  {
   "cell_type": "markdown",
   "metadata": {},
   "source": [
    "마지막으로 zb의 분포를 unbias하여 `WaitTimeCalculator`를 만드는 데 사용하는 z의 분포를 얻습니다."
   ]
  },
  {
   "cell_type": "code",
   "execution_count": null,
   "metadata": {
    "collapsed": true
   },
   "outputs": [],
   "source": [
    "pmf_z = UnbiasPmf(pmf_zb) \n",
    "wtc = WaitTimeCalculator(pmf_z)"
   ]
  },
  {
   "cell_type": "markdown",
   "metadata": {},
   "source": [
    "이 과정은 복잡하지만 모든 단계는 이전에 보았던 작업입니다. 이제 우리는 오래 기다릴 확률을 계산할 준비가 되었습니다."
   ]
  },
  {
   "cell_type": "code",
   "execution_count": 27,
   "metadata": {
    "collapsed": true
   },
   "outputs": [],
   "source": [
    "def ProbLongWait(num_passengers, minutes):\n",
    "    ete = ElapsedTimeEstimator(wtc, lam, num_passengers) \n",
    "    cdf_y = ete.pmf_y.MakeCdf() \n",
    "    prob = 1 - cdf_y.Prob(minutes * 60)"
   ]
  },
  {
   "cell_type": "markdown",
   "metadata": {},
   "source": [
    "플랫폼의 승객 수를 고려하면 `ProbLongWait`은 `ElapsedTi meEstimator`를 만들고, 대기 시간 분포를 추출하고 대기 시간이 분을 초과 할 확률을 계산합니다.\n",
    "\n",
    "그림 8-6은 결과를 보여줍니다. 승객 수가 20 명보다 적 으면 시스템이 정상적으로 작동한다고 추론하므로 지연 시간이 길어질 확률이 적습니다. 승객이 30 명인 경우 마지막 열차가 지난 후 15 분이 걸렸을 것으로 추정됩니다. 이는 정상적인 지연보다 길기 때문에 무언가 잘못되었다는 것을 추론하고 더 긴 지연을 예상합니다."
   ]
  },
  {
   "cell_type": "markdown",
   "metadata": {},
   "source": [
    "<img src = \"ch8_6.png\" style=\"width: 500px\" />"
   ]
  },
  {
   "cell_type": "markdown",
   "metadata": {},
   "source": [
    "South Station에서 10 %의 연결이 끊어지는 것을 기꺼이 받아들인다면, 30 명이 넘지 않는 한 머무르고 기다려야하며 더 있으면 택시를 타야합니다.\n",
    "\n",
    "또는 이 분석을 한 단계 더 진행하기 위해 연결이 누락 된 비용과 택시 비용을 계량화 한 다음 예상 비용을 최소화하는 임계 값을 선택할 수 있습니다."
   ]
  },
  {
   "cell_type": "markdown",
   "metadata": {},
   "source": [
    "## Discussion"
   ]
  },
  {
   "cell_type": "markdown",
   "metadata": {},
   "source": [
    "지금까지의 분석은 승객의 도착률이 매일 같다고 가정했습니다. 러시 아워 (rush hour)의 통근 열차의 경우에는 나쁜 가정이 아닐 수도 있지만 몇 가지 명백한 예외가 있습니다. 예를 들어 근처에 특별 이벤트가 있는 경우 많은 수의 사용자가 동시에 도착할 수 있습니다. 이 경우, lam의 추정치가 너무 낮아서 x와 y의 추정치가 너무 높습니다.\n",
    "\n",
    "\n",
    "특별 이벤트가 주요 지연만큼이나 흔한 경우 모델에 이를 포함시키는 것이 중요합니다. 우리는 가끔 큰 값을 포함하도록 lam의 분포를 확장함으로써 그렇게 할 수 있습니다.\n",
    "\n",
    "우리는 z의 분포를 알고 있다는 가정으로 시작했습니다. 대신에 승객은 z를 예측할 수 있지만 쉽지는 않습니다. 승객은 자신의 대기 시간 (y) 만 관찰합니다. 첫 번째 열차를 건너 뛰고 두 번째 열차를 기다리지 않는 한, 열차 간의 틈을 관찰할수 없습니다(z).\n",
    "\n",
    "그러나 우리는 zb에 대해 몇 가지 추측을 할 수 있습니다. 우리가 도착할 때 기다리는 승객의 수를 기록하면 마지막 열차 x 이후의 경과 시간을 추정 할 수 있습니다. 그런 다음 y를 관찰합니다. 관측 된 y에 x의 사후 분포를 더하면 zb의 관측 값에 대한 posterior belief을 나타내는 분포를 얻습니다.\n",
    "\n",
    "우리는 이 분포를 사용하여 zb의 분포에 대한 우리의 belief를 업데이트 할 수 있습니다. 마지막으로, BiasPmf의 역함수를 계산하여 zb 분포에서 z 분포로 갈 수 있습니다.\n",
    "\n",
    "*문제를 해결하려면 : 먼저 15 장을 읽어야합니다. http://thinkbayes.com/ redline.py에서 솔루션 개요를 찾을 수 있습니다. 자세한 정보는 xi 페이지의 : 코드에 대한 작업;을 참조하십시오."
   ]
  }
 ],
 "metadata": {
  "kernelspec": {
   "display_name": "Python 3",
   "language": "python",
   "name": "python3"
  },
  "language_info": {
   "codemirror_mode": {
    "name": "ipython",
    "version": 3
   },
   "file_extension": ".py",
   "mimetype": "text/x-python",
   "name": "python",
   "nbconvert_exporter": "python",
   "pygments_lexer": "ipython3",
   "version": "3.6.0"
  },
  "varInspector": {
   "cols": {
    "lenName": 16,
    "lenType": 16,
    "lenVar": 40
   },
   "kernels_config": {
    "python": {
     "delete_cmd_postfix": "",
     "delete_cmd_prefix": "del ",
     "library": "var_list.py",
     "varRefreshCmd": "print(var_dic_list())"
    },
    "r": {
     "delete_cmd_postfix": ") ",
     "delete_cmd_prefix": "rm(",
     "library": "var_list.r",
     "varRefreshCmd": "cat(var_dic_list()) "
    }
   },
   "types_to_exclude": [
    "module",
    "function",
    "builtin_function_or_method",
    "instance",
    "_Feature"
   ],
   "window_display": false
  }
 },
 "nbformat": 4,
 "nbformat_minor": 2
}
